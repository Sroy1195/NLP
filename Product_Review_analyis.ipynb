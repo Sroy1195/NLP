{
 "cells": [
  {
   "cell_type": "code",
   "execution_count": 1,
   "id": "61a11806-dfab-4d7a-a90f-879b81b001d1",
   "metadata": {},
   "outputs": [],
   "source": [
    "import numpy as np\n",
    "import pandas as pd"
   ]
  },
  {
   "cell_type": "code",
   "execution_count": 3,
   "id": "1f7e47d7-aa40-47c2-9192-7d15feb89233",
   "metadata": {},
   "outputs": [
    {
     "data": {
      "text/html": [
       "<div>\n",
       "<style scoped>\n",
       "    .dataframe tbody tr th:only-of-type {\n",
       "        vertical-align: middle;\n",
       "    }\n",
       "\n",
       "    .dataframe tbody tr th {\n",
       "        vertical-align: top;\n",
       "    }\n",
       "\n",
       "    .dataframe thead th {\n",
       "        text-align: right;\n",
       "    }\n",
       "</style>\n",
       "<table border=\"1\" class=\"dataframe\">\n",
       "  <thead>\n",
       "    <tr style=\"text-align: right;\">\n",
       "      <th></th>\n",
       "      <th>product_name</th>\n",
       "      <th>overall_rating</th>\n",
       "      <th>no_ratings</th>\n",
       "      <th>no_reviews</th>\n",
       "      <th>rating</th>\n",
       "      <th>title</th>\n",
       "      <th>review</th>\n",
       "    </tr>\n",
       "  </thead>\n",
       "  <tbody>\n",
       "    <tr>\n",
       "      <th>0</th>\n",
       "      <td>Apple MacBook AIR Apple M2 - (8 GB/256 GB SSD/...</td>\n",
       "      <td>4.7</td>\n",
       "      <td>15,210</td>\n",
       "      <td>900</td>\n",
       "      <td>5</td>\n",
       "      <td>Perfect product!</td>\n",
       "      <td>Loved it, it's my first MacBook that I earned ...</td>\n",
       "    </tr>\n",
       "    <tr>\n",
       "      <th>1</th>\n",
       "      <td>Apple MacBook AIR Apple M2 - (8 GB/256 GB SSD/...</td>\n",
       "      <td>4.7</td>\n",
       "      <td>15,210</td>\n",
       "      <td>900</td>\n",
       "      <td>5</td>\n",
       "      <td>Fabulous!</td>\n",
       "      <td>Battery lasted longer than my first relationsh...</td>\n",
       "    </tr>\n",
       "    <tr>\n",
       "      <th>2</th>\n",
       "      <td>Apple MacBook AIR Apple M2 - (8 GB/256 GB SSD/...</td>\n",
       "      <td>4.7</td>\n",
       "      <td>15,210</td>\n",
       "      <td>900</td>\n",
       "      <td>5</td>\n",
       "      <td>Fabulous!</td>\n",
       "      <td>Such a great deal.. very happy with the perfor...</td>\n",
       "    </tr>\n",
       "    <tr>\n",
       "      <th>3</th>\n",
       "      <td>Apple MacBook AIR Apple M2 - (8 GB/256 GB SSD/...</td>\n",
       "      <td>4.7</td>\n",
       "      <td>15,210</td>\n",
       "      <td>900</td>\n",
       "      <td>4</td>\n",
       "      <td>Delightful</td>\n",
       "      <td>Awesome build quality and very good display, b...</td>\n",
       "    </tr>\n",
       "    <tr>\n",
       "      <th>4</th>\n",
       "      <td>Apple MacBook AIR Apple M2 - (8 GB/256 GB SSD/...</td>\n",
       "      <td>4.7</td>\n",
       "      <td>15,210</td>\n",
       "      <td>900</td>\n",
       "      <td>5</td>\n",
       "      <td>Awesome</td>\n",
       "      <td>When i ordered and came to know about seller r...</td>\n",
       "    </tr>\n",
       "  </tbody>\n",
       "</table>\n",
       "</div>"
      ],
      "text/plain": [
       "                                        product_name  overall_rating  \\\n",
       "0  Apple MacBook AIR Apple M2 - (8 GB/256 GB SSD/...             4.7   \n",
       "1  Apple MacBook AIR Apple M2 - (8 GB/256 GB SSD/...             4.7   \n",
       "2  Apple MacBook AIR Apple M2 - (8 GB/256 GB SSD/...             4.7   \n",
       "3  Apple MacBook AIR Apple M2 - (8 GB/256 GB SSD/...             4.7   \n",
       "4  Apple MacBook AIR Apple M2 - (8 GB/256 GB SSD/...             4.7   \n",
       "\n",
       "  no_ratings no_reviews  rating             title  \\\n",
       "0     15,210        900       5  Perfect product!   \n",
       "1     15,210        900       5         Fabulous!   \n",
       "2     15,210        900       5         Fabulous!   \n",
       "3     15,210        900       4        Delightful   \n",
       "4     15,210        900       5           Awesome   \n",
       "\n",
       "                                              review  \n",
       "0  Loved it, it's my first MacBook that I earned ...  \n",
       "1  Battery lasted longer than my first relationsh...  \n",
       "2  Such a great deal.. very happy with the perfor...  \n",
       "3  Awesome build quality and very good display, b...  \n",
       "4  When i ordered and came to know about seller r...  "
      ]
     },
     "execution_count": 3,
     "metadata": {},
     "output_type": "execute_result"
    }
   ],
   "source": [
    "df=pd.read_csv(\"C:\\\\Users\\\\soura\\\\Documents\\\\DS_ML_assignments/laptops_dataset_final_600.csv\")\n",
    "df.head()"
   ]
  },
  {
   "cell_type": "code",
   "execution_count": 5,
   "id": "bcf4d791-4797-476a-be4c-a36608a98162",
   "metadata": {},
   "outputs": [
    {
     "name": "stdout",
     "output_type": "stream",
     "text": [
      "<class 'pandas.core.frame.DataFrame'>\n",
      "RangeIndex: 24113 entries, 0 to 24112\n",
      "Data columns (total 7 columns):\n",
      " #   Column          Non-Null Count  Dtype  \n",
      "---  ------          --------------  -----  \n",
      " 0   product_name    24113 non-null  object \n",
      " 1   overall_rating  24113 non-null  float64\n",
      " 2   no_ratings      24113 non-null  object \n",
      " 3   no_reviews      24113 non-null  object \n",
      " 4   rating          24113 non-null  int64  \n",
      " 5   title           24113 non-null  object \n",
      " 6   review          24113 non-null  object \n",
      "dtypes: float64(1), int64(1), object(5)\n",
      "memory usage: 1.3+ MB\n"
     ]
    }
   ],
   "source": [
    "df.info()"
   ]
  },
  {
   "cell_type": "code",
   "execution_count": 11,
   "id": "29054015-eee1-41f2-b105-b1c200e942fc",
   "metadata": {},
   "outputs": [
    {
     "data": {
      "text/plain": [
       "product_name      0\n",
       "overall_rating    0\n",
       "no_ratings        0\n",
       "no_reviews        0\n",
       "rating            0\n",
       "title             0\n",
       "review            0\n",
       "dtype: int64"
      ]
     },
     "execution_count": 11,
     "metadata": {},
     "output_type": "execute_result"
    }
   ],
   "source": [
    "df.isnull().sum()"
   ]
  },
  {
   "cell_type": "code",
   "execution_count": 19,
   "id": "e9a74a49-2eee-4f27-8a52-0e3aef642482",
   "metadata": {},
   "outputs": [
    {
     "data": {
      "text/html": [
       "<div>\n",
       "<style scoped>\n",
       "    .dataframe tbody tr th:only-of-type {\n",
       "        vertical-align: middle;\n",
       "    }\n",
       "\n",
       "    .dataframe tbody tr th {\n",
       "        vertical-align: top;\n",
       "    }\n",
       "\n",
       "    .dataframe thead th {\n",
       "        text-align: right;\n",
       "    }\n",
       "</style>\n",
       "<table border=\"1\" class=\"dataframe\">\n",
       "  <thead>\n",
       "    <tr style=\"text-align: right;\">\n",
       "      <th></th>\n",
       "      <th>rating</th>\n",
       "      <th>review</th>\n",
       "    </tr>\n",
       "  </thead>\n",
       "  <tbody>\n",
       "    <tr>\n",
       "      <th>0</th>\n",
       "      <td>5</td>\n",
       "      <td>Loved it, it's my first MacBook that I earned ...</td>\n",
       "    </tr>\n",
       "    <tr>\n",
       "      <th>1</th>\n",
       "      <td>5</td>\n",
       "      <td>Battery lasted longer than my first relationsh...</td>\n",
       "    </tr>\n",
       "    <tr>\n",
       "      <th>2</th>\n",
       "      <td>5</td>\n",
       "      <td>Such a great deal.. very happy with the perfor...</td>\n",
       "    </tr>\n",
       "    <tr>\n",
       "      <th>3</th>\n",
       "      <td>4</td>\n",
       "      <td>Awesome build quality and very good display, b...</td>\n",
       "    </tr>\n",
       "    <tr>\n",
       "      <th>4</th>\n",
       "      <td>5</td>\n",
       "      <td>When i ordered and came to know about seller r...</td>\n",
       "    </tr>\n",
       "  </tbody>\n",
       "</table>\n",
       "</div>"
      ],
      "text/plain": [
       "   rating                                             review\n",
       "0       5  Loved it, it's my first MacBook that I earned ...\n",
       "1       5  Battery lasted longer than my first relationsh...\n",
       "2       5  Such a great deal.. very happy with the perfor...\n",
       "3       4  Awesome build quality and very good display, b...\n",
       "4       5  When i ordered and came to know about seller r..."
      ]
     },
     "execution_count": 19,
     "metadata": {},
     "output_type": "execute_result"
    }
   ],
   "source": [
    "df_new=df.drop(['product_name','overall_rating','no_ratings','no_reviews','title'], axis=1)\n",
    "df_new.head()"
   ]
  },
  {
   "cell_type": "code",
   "execution_count": 21,
   "id": "fa082591-ed63-42f1-819b-80f59d5e0231",
   "metadata": {},
   "outputs": [
    {
     "data": {
      "text/plain": [
       "rating\n",
       "5    13972\n",
       "4     5629\n",
       "3     2035\n",
       "1     1809\n",
       "2      668\n",
       "Name: count, dtype: int64"
      ]
     },
     "execution_count": 21,
     "metadata": {},
     "output_type": "execute_result"
    }
   ],
   "source": [
    "df_new['rating'].value_counts()"
   ]
  },
  {
   "cell_type": "code",
   "execution_count": 33,
   "id": "c661746b-8e93-48f2-abe4-9aa7a3315ad4",
   "metadata": {},
   "outputs": [],
   "source": [
    "import seaborn as sns\n",
    "import matplotlib.pyplot as plt"
   ]
  },
  {
   "cell_type": "code",
   "execution_count": 39,
   "id": "7924621b-01ba-43d4-84c6-67302e70e441",
   "metadata": {},
   "outputs": [
    {
     "data": {
      "image/png": "[encoded data removed]",
      "text/plain": [
       "<Figure size 800x600 with 1 Axes>"
      ]
     },
     "metadata": {},
     "output_type": "display_data"
    }
   ],
   "source": [
    "plt.figure(figsize=(8,6))\n",
    "sns.countplot(y='rating', data=df_new, order = df_new['rating'].value_counts().index)\n",
    "plt.show()"
   ]
  },
  {
   "cell_type": "code",
   "execution_count": 41,
   "id": "dd675f66-dd0a-46bc-9593-e36c382609ac",
   "metadata": {},
   "outputs": [
    {
     "name": "stderr",
     "output_type": "stream",
     "text": [
      "<>:3: SyntaxWarning: invalid escape sequence '\\]'\n",
      "<>:5: SyntaxWarning: invalid escape sequence '\\s'\n",
      "<>:3: SyntaxWarning: invalid escape sequence '\\]'\n",
      "<>:5: SyntaxWarning: invalid escape sequence '\\s'\n",
      "C:\\Users\\soura\\AppData\\Local\\Temp\\ipykernel_9812\\2410776394.py:3: SyntaxWarning: invalid escape sequence '\\]'\n",
      "  reviewText = re.sub('[%s]' % re.escape(\"\"\"!\"#$%&'()*+,-./:;<=>?@[\\]^_`{|}~\"\"\"), ' ', reviewText)  # remove punctuations\n",
      "C:\\Users\\soura\\AppData\\Local\\Temp\\ipykernel_9812\\2410776394.py:5: SyntaxWarning: invalid escape sequence '\\s'\n",
      "  reviewText = re.sub('\\s+', ' ', reviewText)  # remove extra whitespace\n"
     ]
    },
    {
     "data": {
      "text/html": [
       "<div>\n",
       "<style scoped>\n",
       "    .dataframe tbody tr th:only-of-type {\n",
       "        vertical-align: middle;\n",
       "    }\n",
       "\n",
       "    .dataframe tbody tr th {\n",
       "        vertical-align: top;\n",
       "    }\n",
       "\n",
       "    .dataframe thead th {\n",
       "        text-align: right;\n",
       "    }\n",
       "</style>\n",
       "<table border=\"1\" class=\"dataframe\">\n",
       "  <thead>\n",
       "    <tr style=\"text-align: right;\">\n",
       "      <th></th>\n",
       "      <th>rating</th>\n",
       "      <th>review</th>\n",
       "      <th>Cleaned_Review</th>\n",
       "    </tr>\n",
       "  </thead>\n",
       "  <tbody>\n",
       "    <tr>\n",
       "      <th>0</th>\n",
       "      <td>5</td>\n",
       "      <td>Loved it, it's my first MacBook that I earned ...</td>\n",
       "      <td>loved it it s my first macbook that i earned f...</td>\n",
       "    </tr>\n",
       "    <tr>\n",
       "      <th>1</th>\n",
       "      <td>5</td>\n",
       "      <td>Battery lasted longer than my first relationsh...</td>\n",
       "      <td>battery lasted longer than my first relationsh...</td>\n",
       "    </tr>\n",
       "    <tr>\n",
       "      <th>2</th>\n",
       "      <td>5</td>\n",
       "      <td>Such a great deal.. very happy with the perfor...</td>\n",
       "      <td>such a great deal very happy with the performa...</td>\n",
       "    </tr>\n",
       "    <tr>\n",
       "      <th>3</th>\n",
       "      <td>4</td>\n",
       "      <td>Awesome build quality and very good display, b...</td>\n",
       "      <td>awesome build quality and very good display ba...</td>\n",
       "    </tr>\n",
       "    <tr>\n",
       "      <th>4</th>\n",
       "      <td>5</td>\n",
       "      <td>When i ordered and came to know about seller r...</td>\n",
       "      <td>when i ordered and came to know about seller r...</td>\n",
       "    </tr>\n",
       "  </tbody>\n",
       "</table>\n",
       "</div>"
      ],
      "text/plain": [
       "   rating                                             review  \\\n",
       "0       5  Loved it, it's my first MacBook that I earned ...   \n",
       "1       5  Battery lasted longer than my first relationsh...   \n",
       "2       5  Such a great deal.. very happy with the perfor...   \n",
       "3       4  Awesome build quality and very good display, b...   \n",
       "4       5  When i ordered and came to know about seller r...   \n",
       "\n",
       "                                      Cleaned_Review  \n",
       "0  loved it it s my first macbook that i earned f...  \n",
       "1  battery lasted longer than my first relationsh...  \n",
       "2  such a great deal very happy with the performa...  \n",
       "3  awesome build quality and very good display ba...  \n",
       "4  when i ordered and came to know about seller r...  "
      ]
     },
     "execution_count": 41,
     "metadata": {},
     "output_type": "execute_result"
    }
   ],
   "source": [
    "import re\n",
    "def cleanReview(reviewText):\n",
    "    reviewText = re.sub('[%s]' % re.escape(\"\"\"!\"#$%&'()*+,-./:;<=>?@[\\]^_`{|}~\"\"\"), ' ', reviewText)  # remove punctuations\n",
    "    reviewText = re.sub(r'[^\\x00-\\x7f]',r' ', reviewText) # remove non-ascii characters\n",
    "    reviewText = re.sub('\\s+', ' ', reviewText)  # remove extra whitespace\n",
    "    reviewText = re.sub(r'[0-9]+', '', reviewText)  #remove numbers\n",
    "    return reviewText.lower()\n",
    "\n",
    "df_new[\"Cleaned_Review\"] = df_new[\"review\"].apply(lambda x: cleanReview(x))\n",
    "df_new.head()"
   ]
  },
  {
   "cell_type": "code",
   "execution_count": 43,
   "id": "c0583fd7-cf0e-4f5e-b8e3-86967b334a73",
   "metadata": {},
   "outputs": [],
   "source": [
    "pd.set_option('max_colwidth', 800000)"
   ]
  },
  {
   "cell_type": "code",
   "execution_count": 45,
   "id": "94da1032-4f79-4beb-8578-26473593f20a",
   "metadata": {},
   "outputs": [
    {
     "data": {
      "text/html": [
       "<div>\n",
       "<style scoped>\n",
       "    .dataframe tbody tr th:only-of-type {\n",
       "        vertical-align: middle;\n",
       "    }\n",
       "\n",
       "    .dataframe tbody tr th {\n",
       "        vertical-align: top;\n",
       "    }\n",
       "\n",
       "    .dataframe thead th {\n",
       "        text-align: right;\n",
       "    }\n",
       "</style>\n",
       "<table border=\"1\" class=\"dataframe\">\n",
       "  <thead>\n",
       "    <tr style=\"text-align: right;\">\n",
       "      <th></th>\n",
       "      <th>rating</th>\n",
       "      <th>review</th>\n",
       "      <th>Cleaned_Review</th>\n",
       "    </tr>\n",
       "  </thead>\n",
       "  <tbody>\n",
       "    <tr>\n",
       "      <th>0</th>\n",
       "      <td>5</td>\n",
       "      <td>Loved it, it's my first MacBook that I earned from my hardwork 🥺❤️</td>\n",
       "      <td>loved it it s my first macbook that i earned from my hardwork</td>\n",
       "    </tr>\n",
       "    <tr>\n",
       "      <th>1</th>\n",
       "      <td>5</td>\n",
       "      <td>Battery lasted longer than my first relationship (2 days).\\nListening to Arijit singh songs on full volume since then still isn't getting over. Has more warmth than her. unlike her there's two way communication here as touchpad is very responsive. fingerprint lock is nice as it only opens up to me. 5 stars for this -1 for her</td>\n",
       "      <td>battery lasted longer than my first relationship  days listening to arijit singh songs on full volume since then still isn t getting over has more warmth than her unlike her there s two way communication here as touchpad is very responsive fingerprint lock is nice as it only opens up to me  stars for this  for her</td>\n",
       "    </tr>\n",
       "    <tr>\n",
       "      <th>2</th>\n",
       "      <td>5</td>\n",
       "      <td>Such a great deal.. very happy with the performance and battery life..Origional product..🥰❤️\\nThank you Flipkart..!!!</td>\n",
       "      <td>such a great deal very happy with the performance and battery life origional product thank you flipkart</td>\n",
       "    </tr>\n",
       "    <tr>\n",
       "      <th>3</th>\n",
       "      <td>4</td>\n",
       "      <td>Awesome build quality and very good display, battery and camera. Still new to macOS</td>\n",
       "      <td>awesome build quality and very good display battery and camera still new to macos</td>\n",
       "    </tr>\n",
       "    <tr>\n",
       "      <th>4</th>\n",
       "      <td>5</td>\n",
       "      <td>When i ordered and came to know about seller review,i was scared that in what condition i will get macbook. but i was wrong.\\n\\nThis is my first macbook and i am fully satisfied with the product with original packaging of apple and got genuine product.\\n\\nIt's very thin and light and looks very premium.\\n\\nAs A software developer, i installed intellij idea ide and guess what.\\nIt's magic,it is opening just in a click and within 5 seconds.\\nGreat performance, no heating issue, sound quality awesome an...\\nREAD MORE</td>\n",
       "      <td>when i ordered and came to know about seller review i was scared that in what condition i will get macbook but i was wrong this is my first macbook and i am fully satisfied with the product with original packaging of apple and got genuine product it s very thin and light and looks very premium as a software developer i installed intellij idea ide and guess what it s magic it is opening just in a click and within  seconds great performance no heating issue sound quality awesome an read more</td>\n",
       "    </tr>\n",
       "  </tbody>\n",
       "</table>\n",
       "</div>"
      ],
      "text/plain": [
       "   rating  \\\n",
       "0       5   \n",
       "1       5   \n",
       "2       5   \n",
       "3       4   \n",
       "4       5   \n",
       "\n",
       "                                                                                                                                                                                                                                                                                                                                                                                                                                                                                                                                    review  \\\n",
       "0                                                                                                                                                                                                                                                                                                                                                                                                                                                                       Loved it, it's my first MacBook that I earned from my hardwork 🥺❤️   \n",
       "1                                                                                                                                                                                                  Battery lasted longer than my first relationship (2 days).\\nListening to Arijit singh songs on full volume since then still isn't getting over. Has more warmth than her. unlike her there's two way communication here as touchpad is very responsive. fingerprint lock is nice as it only opens up to me. 5 stars for this -1 for her   \n",
       "2                                                                                                                                                                                                                                                                                                                                                                                                                    Such a great deal.. very happy with the performance and battery life..Origional product..🥰❤️\\nThank you Flipkart..!!!   \n",
       "3                                                                                                                                                                                                                                                                                                                                                                                                                                                      Awesome build quality and very good display, battery and camera. Still new to macOS   \n",
       "4  When i ordered and came to know about seller review,i was scared that in what condition i will get macbook. but i was wrong.\\n\\nThis is my first macbook and i am fully satisfied with the product with original packaging of apple and got genuine product.\\n\\nIt's very thin and light and looks very premium.\\n\\nAs A software developer, i installed intellij idea ide and guess what.\\nIt's magic,it is opening just in a click and within 5 seconds.\\nGreat performance, no heating issue, sound quality awesome an...\\nREAD MORE   \n",
       "\n",
       "                                                                                                                                                                                                                                                                                                                                                                                                                                                                                                   Cleaned_Review  \n",
       "0                                                                                                                                                                                                                                                                                                                                                                                                                                                  loved it it s my first macbook that i earned from my hardwork   \n",
       "1                                                                                                                                                                                     battery lasted longer than my first relationship  days listening to arijit singh songs on full volume since then still isn t getting over has more warmth than her unlike her there s two way communication here as touchpad is very responsive fingerprint lock is nice as it only opens up to me  stars for this  for her  \n",
       "2                                                                                                                                                                                                                                                                                                                                                                                                        such a great deal very happy with the performance and battery life origional product thank you flipkart   \n",
       "3                                                                                                                                                                                                                                                                                                                                                                                                                               awesome build quality and very good display battery and camera still new to macos  \n",
       "4  when i ordered and came to know about seller review i was scared that in what condition i will get macbook but i was wrong this is my first macbook and i am fully satisfied with the product with original packaging of apple and got genuine product it s very thin and light and looks very premium as a software developer i installed intellij idea ide and guess what it s magic it is opening just in a click and within  seconds great performance no heating issue sound quality awesome an read more  "
      ]
     },
     "execution_count": 45,
     "metadata": {},
     "output_type": "execute_result"
    }
   ],
   "source": [
    "df_new.head()"
   ]
  },
  {
   "cell_type": "code",
   "execution_count": 47,
   "id": "3acc09df-f1c7-422d-9456-f6179ca0287b",
   "metadata": {},
   "outputs": [
    {
     "data": {
      "text/html": [
       "<div>\n",
       "<style scoped>\n",
       "    .dataframe tbody tr th:only-of-type {\n",
       "        vertical-align: middle;\n",
       "    }\n",
       "\n",
       "    .dataframe tbody tr th {\n",
       "        vertical-align: top;\n",
       "    }\n",
       "\n",
       "    .dataframe thead th {\n",
       "        text-align: right;\n",
       "    }\n",
       "</style>\n",
       "<table border=\"1\" class=\"dataframe\">\n",
       "  <thead>\n",
       "    <tr style=\"text-align: right;\">\n",
       "      <th></th>\n",
       "      <th>rating</th>\n",
       "      <th>review</th>\n",
       "      <th>Cleaned_Review</th>\n",
       "      <th>Labels</th>\n",
       "    </tr>\n",
       "  </thead>\n",
       "  <tbody>\n",
       "    <tr>\n",
       "      <th>0</th>\n",
       "      <td>5</td>\n",
       "      <td>Loved it, it's my first MacBook that I earned from my hardwork 🥺❤️</td>\n",
       "      <td>loved it it s my first macbook that i earned from my hardwork</td>\n",
       "      <td>4</td>\n",
       "    </tr>\n",
       "    <tr>\n",
       "      <th>1</th>\n",
       "      <td>5</td>\n",
       "      <td>Battery lasted longer than my first relationship (2 days).\\nListening to Arijit singh songs on full volume since then still isn't getting over. Has more warmth than her. unlike her there's two way communication here as touchpad is very responsive. fingerprint lock is nice as it only opens up to me. 5 stars for this -1 for her</td>\n",
       "      <td>battery lasted longer than my first relationship  days listening to arijit singh songs on full volume since then still isn t getting over has more warmth than her unlike her there s two way communication here as touchpad is very responsive fingerprint lock is nice as it only opens up to me  stars for this  for her</td>\n",
       "      <td>4</td>\n",
       "    </tr>\n",
       "    <tr>\n",
       "      <th>2</th>\n",
       "      <td>5</td>\n",
       "      <td>Such a great deal.. very happy with the performance and battery life..Origional product..🥰❤️\\nThank you Flipkart..!!!</td>\n",
       "      <td>such a great deal very happy with the performance and battery life origional product thank you flipkart</td>\n",
       "      <td>4</td>\n",
       "    </tr>\n",
       "    <tr>\n",
       "      <th>3</th>\n",
       "      <td>4</td>\n",
       "      <td>Awesome build quality and very good display, battery and camera. Still new to macOS</td>\n",
       "      <td>awesome build quality and very good display battery and camera still new to macos</td>\n",
       "      <td>3</td>\n",
       "    </tr>\n",
       "    <tr>\n",
       "      <th>4</th>\n",
       "      <td>5</td>\n",
       "      <td>When i ordered and came to know about seller review,i was scared that in what condition i will get macbook. but i was wrong.\\n\\nThis is my first macbook and i am fully satisfied with the product with original packaging of apple and got genuine product.\\n\\nIt's very thin and light and looks very premium.\\n\\nAs A software developer, i installed intellij idea ide and guess what.\\nIt's magic,it is opening just in a click and within 5 seconds.\\nGreat performance, no heating issue, sound quality awesome an...\\nREAD MORE</td>\n",
       "      <td>when i ordered and came to know about seller review i was scared that in what condition i will get macbook but i was wrong this is my first macbook and i am fully satisfied with the product with original packaging of apple and got genuine product it s very thin and light and looks very premium as a software developer i installed intellij idea ide and guess what it s magic it is opening just in a click and within  seconds great performance no heating issue sound quality awesome an read more</td>\n",
       "      <td>4</td>\n",
       "    </tr>\n",
       "  </tbody>\n",
       "</table>\n",
       "</div>"
      ],
      "text/plain": [
       "   rating  \\\n",
       "0       5   \n",
       "1       5   \n",
       "2       5   \n",
       "3       4   \n",
       "4       5   \n",
       "\n",
       "                                                                                                                                                                                                                                                                                                                                                                                                                                                                                                                                    review  \\\n",
       "0                                                                                                                                                                                                                                                                                                                                                                                                                                                                       Loved it, it's my first MacBook that I earned from my hardwork 🥺❤️   \n",
       "1                                                                                                                                                                                                  Battery lasted longer than my first relationship (2 days).\\nListening to Arijit singh songs on full volume since then still isn't getting over. Has more warmth than her. unlike her there's two way communication here as touchpad is very responsive. fingerprint lock is nice as it only opens up to me. 5 stars for this -1 for her   \n",
       "2                                                                                                                                                                                                                                                                                                                                                                                                                    Such a great deal.. very happy with the performance and battery life..Origional product..🥰❤️\\nThank you Flipkart..!!!   \n",
       "3                                                                                                                                                                                                                                                                                                                                                                                                                                                      Awesome build quality and very good display, battery and camera. Still new to macOS   \n",
       "4  When i ordered and came to know about seller review,i was scared that in what condition i will get macbook. but i was wrong.\\n\\nThis is my first macbook and i am fully satisfied with the product with original packaging of apple and got genuine product.\\n\\nIt's very thin and light and looks very premium.\\n\\nAs A software developer, i installed intellij idea ide and guess what.\\nIt's magic,it is opening just in a click and within 5 seconds.\\nGreat performance, no heating issue, sound quality awesome an...\\nREAD MORE   \n",
       "\n",
       "                                                                                                                                                                                                                                                                                                                                                                                                                                                                                                   Cleaned_Review  \\\n",
       "0                                                                                                                                                                                                                                                                                                                                                                                                                                                  loved it it s my first macbook that i earned from my hardwork    \n",
       "1                                                                                                                                                                                     battery lasted longer than my first relationship  days listening to arijit singh songs on full volume since then still isn t getting over has more warmth than her unlike her there s two way communication here as touchpad is very responsive fingerprint lock is nice as it only opens up to me  stars for this  for her   \n",
       "2                                                                                                                                                                                                                                                                                                                                                                                                        such a great deal very happy with the performance and battery life origional product thank you flipkart    \n",
       "3                                                                                                                                                                                                                                                                                                                                                                                                                               awesome build quality and very good display battery and camera still new to macos   \n",
       "4  when i ordered and came to know about seller review i was scared that in what condition i will get macbook but i was wrong this is my first macbook and i am fully satisfied with the product with original packaging of apple and got genuine product it s very thin and light and looks very premium as a software developer i installed intellij idea ide and guess what it s magic it is opening just in a click and within  seconds great performance no heating issue sound quality awesome an read more   \n",
       "\n",
       "   Labels  \n",
       "0       4  \n",
       "1       4  \n",
       "2       4  \n",
       "3       3  \n",
       "4       4  "
      ]
     },
     "execution_count": 47,
     "metadata": {},
     "output_type": "execute_result"
    }
   ],
   "source": [
    "from sklearn.preprocessing import LabelEncoder\n",
    "encoder = LabelEncoder()\n",
    "df_new['Labels']=encoder.fit_transform(df_new[\"rating\"])\n",
    "df_new.head()"
   ]
  },
  {
   "cell_type": "code",
   "execution_count": 63,
   "id": "da7f5ab7-c4dc-492b-8050-c3e44975ca5a",
   "metadata": {},
   "outputs": [
    {
     "name": "stdout",
     "output_type": "stream",
     "text": [
      "(24113,)\n",
      "(24113,)\n",
      "(18084,)\n",
      "(6029,)\n",
      "(18084,)\n",
      "(6029,)\n"
     ]
    }
   ],
   "source": [
    "from sklearn.model_selection import train_test_split\n",
    "from sklearn.model_selection import train_test_split\n",
    "\n",
    "X = df_new[\"Cleaned_Review\"]\n",
    "y = df_new.Labels\n",
    "print(X.shape)\n",
    "print(y.shape)\n",
    "\n",
    "X_train, X_test, y_train, y_test = train_test_split(X, y, random_state=1)\n",
    "\n",
    "print(X_train.shape)\n",
    "print(X_test.shape)\n",
    "print(y_train.shape)\n",
    "print(y_test.shape)"
   ]
  },
  {
   "cell_type": "code",
   "execution_count": 65,
   "id": "8392f3c0-178f-45ee-ad6a-6d876f58b61e",
   "metadata": {},
   "outputs": [
    {
     "name": "stdout",
     "output_type": "stream",
     "text": [
      "<class 'scipy.sparse._csr.csr_matrix'> (18084, 6430)\n",
      "<class 'scipy.sparse._csr.csr_matrix'> (6029, 6430)\n"
     ]
    }
   ],
   "source": [
    "from sklearn.feature_extraction.text import CountVectorizer\n",
    "\n",
    "# instantiate the vectorizer\n",
    "vect = CountVectorizer()\n",
    "vect.fit(X_train)\n",
    "\n",
    "# learn training data vocabulary, then use it to create a document-term matrix\n",
    "X_train_dtm = vect.transform(X_train)\n",
    "\n",
    "# equivalently: combine fit and transform into a single step\n",
    "X_train_dtm = vect.fit_transform(X_train)\n",
    "\n",
    "\n",
    "# examine the document-term matrix\n",
    "print(type(X_train_dtm), X_train_dtm.shape)\n",
    "\n",
    "# transform testing data (using fitted vocabulary) into a document-term matrix\n",
    "X_test_dtm = vect.transform(X_test)\n",
    "print(type(X_test_dtm), X_test_dtm.shape)"
   ]
  },
  {
   "cell_type": "code",
   "execution_count": 67,
   "id": "f09d4cab-d199-4254-b39a-2a7fb4e4f70d",
   "metadata": {},
   "outputs": [
    {
     "data": {
      "text/plain": [
       "<18084x6430 sparse matrix of type '<class 'numpy.float64'>'\n",
       "\twith 247904 stored elements in Compressed Sparse Row format>"
      ]
     },
     "execution_count": 67,
     "metadata": {},
     "output_type": "execute_result"
    }
   ],
   "source": [
    "from sklearn.feature_extraction.text import TfidfTransformer\n",
    "\n",
    "tfidf_transformer = TfidfTransformer()\n",
    "tfidf_transformer.fit(X_train_dtm)\n",
    "tfidf_transformer.transform(X_train_dtm)"
   ]
  },
  {
   "cell_type": "code",
   "execution_count": 69,
   "id": "c4af409b-2832-44cc-946d-2b4c3d6525a6",
   "metadata": {},
   "outputs": [
    {
     "name": "stdout",
     "output_type": "stream",
     "text": [
      "=======Accuracy Score===========\n",
      "0.6881738265052247\n"
     ]
    }
   ],
   "source": [
    "from sklearn.naive_bayes import MultinomialNB\n",
    "nb = MultinomialNB()\n",
    "nb.fit(X_train_dtm, y_train)\n",
    "from sklearn import metrics\n",
    "\n",
    "# make class predictions for X_test_dtm\n",
    "y_pred_class = nb.predict(X_test_dtm)\n",
    "\n",
    "# calculate accuracy of class predictions\n",
    "print(\"=======Accuracy Score===========\")\n",
    "print(metrics.accuracy_score(y_test, y_pred_class))"
   ]
  },
  {
   "cell_type": "code",
   "execution_count": 71,
   "id": "f320743f-c11d-4bda-a8a4-1194796b3fa7",
   "metadata": {},
   "outputs": [
    {
     "name": "stdout",
     "output_type": "stream",
     "text": [
      "=======Accuracy Score===========\n",
      "0.6239840769613535\n"
     ]
    }
   ],
   "source": [
    "from sklearn.feature_extraction.text import TfidfTransformer\n",
    "from sklearn.pipeline import Pipeline\n",
    "\n",
    "pipe = Pipeline([('bow', CountVectorizer()), \n",
    "                 ('tfid', TfidfTransformer()),  \n",
    "                 ('model', MultinomialNB())])\n",
    "\n",
    "pipe.fit(X_train, y_train)\n",
    "y_pred = pipe.predict(X_test)\n",
    "\n",
    "# calculate accuracy of class predictions\n",
    "print(\"=======Accuracy Score===========\")\n",
    "print(metrics.accuracy_score(y_test, y_pred))"
   ]
  },
  {
   "cell_type": "code",
   "execution_count": 73,
   "id": "6c706e43-38b2-4817-9407-a4a9dec646ae",
   "metadata": {},
   "outputs": [
    {
     "name": "stdout",
     "output_type": "stream",
     "text": [
      "CPU times: total: 2.22 s\n",
      "Wall time: 823 ms\n",
      "=======Accuracy Score===========\n",
      "0.6881738265052247\n"
     ]
    }
   ],
   "source": [
    "from sklearn.linear_model import LogisticRegression\n",
    "\n",
    "logreg = LogisticRegression(solver='liblinear')\n",
    "\n",
    "# train the model using X_train_dtm\n",
    "%time logreg.fit(X_train_dtm, y_train)\n",
    "\n",
    "# calculate accuracy of class predictions\n",
    "print(\"=======Accuracy Score===========\")\n",
    "print(metrics.accuracy_score(y_test, y_pred_class))"
   ]
  },
  {
   "cell_type": "code",
   "execution_count": null,
   "id": "be6928d1-4d14-4787-89af-5661fc6e2558",
   "metadata": {},
   "outputs": [],
   "source": []
  }
 ],
 "metadata": {
  "kernelspec": {
   "display_name": "Python 3 (ipykernel)",
   "language": "python",
   "name": "python3"
  },
  "language_info": {
   "codemirror_mode": {
    "name": "ipython",
    "version": 3
   },
   "file_extension": ".py",
   "mimetype": "text/x-python",
   "name": "python",
   "nbconvert_exporter": "python",
   "pygments_lexer": "ipython3",
   "version": "3.12.7"
  }
 },
 "nbformat": 4,
 "nbformat_minor": 5
}
